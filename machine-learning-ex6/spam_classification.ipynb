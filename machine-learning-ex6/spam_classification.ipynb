{
 "cells": [
  {
   "cell_type": "code",
   "execution_count": 71,
   "metadata": {},
   "outputs": [],
   "source": [
    "def getVocabList():\n",
    "    vocabList = []\n",
    "    with open('vocab.txt','r') as fp:\n",
    "        vocabList = fp.read().split('\\n')\n",
    "    return vocabList[:-1]"
   ]
  },
  {
   "cell_type": "code",
   "execution_count": 78,
   "metadata": {},
   "outputs": [],
   "source": [
    "vocabDict = {}\n",
    "vocabList = getVocabList();\n",
    "for vocab in vocabList:\n",
    "    line = vocab.split('\\t')\n",
    "    vocabDict[line[1]] = int(line[0])\n",
    "    "
   ]
  },
  {
   "cell_type": "code",
   "execution_count": 41,
   "metadata": {},
   "outputs": [
    {
     "name": "stdout",
     "output_type": "stream",
     "text": [
      "   0      1\n",
      "0  1     aa\n",
      "1  2     ab\n",
      "2  3   abil\n",
      "3  4    abl\n",
      "4  5  about\n"
     ]
    }
   ],
   "source": [
    "import pandas as pd\n",
    "data = pd.read_table(\"vocab.txt\",header=None)\n",
    "print(data.head())\n",
    "\n",
    "vocabDict = {}\n",
    "for i in range(len(data)):\n",
    "    vocabDict[data[1][i]] = data[0][i]"
   ]
  },
  {
   "cell_type": "code",
   "execution_count": 77,
   "metadata": {},
   "outputs": [
    {
     "name": "stdout",
     "output_type": "stream",
     "text": [
      "[0. 0. 0. ... 1. 0. 0.]\n"
     ]
    }
   ],
   "source": [
    "import re\n",
    "import numpy\n",
    "\n",
    "def processEmail(email_contents):\n",
    "    email_contents = email_contents.lower()\n",
    "    email_contents = re.sub(r'<[^<>]+>', '', email_contents)\n",
    "    email_contents = re.sub(r'[0-9]+','number',email_contents)\n",
    "    email_contents = re.sub(r'(http|https)://[^\\s]*','httpaddr',email_contents)\n",
    "    email_contents = re.sub(r'[^\\s]+@[^\\s]+','emailaddr', email_contents)\n",
    "    email_contents = re.sub(r'[$]+','dollar',email_contents)\n",
    "    \n",
    "    email_contents = re.sub(r'[ @$/#\\.\\-:&\\*\\+=\\[\\]\\?\\!\\(\\)\\{\\},\\'\\'\">_<;%]', ' ', email_contents)\n",
    "    email_contents = re.sub(r'\\n', ' ', email_contents)\n",
    "    words = email_contents.split(' ')\n",
    "    words = [word for word in words if word != '']\n",
    "\n",
    "    word_indices = np.zeros(len(vocabDict))\n",
    "    \n",
    "    for word in words:\n",
    "        if word in vocabDict.keys():\n",
    "            # print(word,vocabDict[word])\n",
    "            word_indices[vocabDict[word]] = 1\n",
    "    return word_indices\n",
    "    \n",
    "with open('emailSample1.txt', 'r') as fp:\n",
    "    email_contents = fp.read()\n",
    "    email_contents = processEmail(email_contents)\n",
    "    print(email_contents)"
   ]
  },
  {
   "cell_type": "code",
   "execution_count": 64,
   "metadata": {},
   "outputs": [],
   "source": [
    "spam_train_data = pd.read_csv('spamTrain.csv',header=None)"
   ]
  },
  {
   "cell_type": "code",
   "execution_count": 62,
   "metadata": {},
   "outputs": [
    {
     "name": "stdout",
     "output_type": "stream",
     "text": [
      "0.99825\n"
     ]
    }
   ],
   "source": [
    "from sklearn import svm\n",
    "X = spam_train_data.as_matrix(np.arange(0,1898))\n",
    "y = spam_train_data[1899]\n",
    "\n",
    "svm_model = svm.SVC(kernel='linear',C=0.1)\n",
    "svm_reg = svm_model.fit(X,y)\n",
    "\n",
    "print(svm_reg.score(X,y))"
   ]
  },
  {
   "cell_type": "code",
   "execution_count": 63,
   "metadata": {},
   "outputs": [
    {
     "name": "stdout",
     "output_type": "stream",
     "text": [
      "0.989\n"
     ]
    }
   ],
   "source": [
    "spam_test_data = pd.read_csv('spamTest.csv',header=None)\n",
    "Xtest = spam_test_data.as_matrix(np.arange(0,1898))\n",
    "ytest = spam_test_data[1899]\n",
    "print(svm_reg.score(Xtest,ytest))"
   ]
  },
  {
   "cell_type": "code",
   "execution_count": null,
   "metadata": {},
   "outputs": [],
   "source": []
  }
 ],
 "metadata": {
  "kernelspec": {
   "display_name": "Python 3",
   "language": "python",
   "name": "python3"
  },
  "language_info": {
   "codemirror_mode": {
    "name": "ipython",
    "version": 3
   },
   "file_extension": ".py",
   "mimetype": "text/x-python",
   "name": "python",
   "nbconvert_exporter": "python",
   "pygments_lexer": "ipython3",
   "version": "3.6.4"
  }
 },
 "nbformat": 4,
 "nbformat_minor": 2
}
